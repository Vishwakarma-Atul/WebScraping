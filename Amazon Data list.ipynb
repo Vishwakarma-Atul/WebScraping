{
 "cells": [
  {
   "cell_type": "markdown",
   "id": "9cc26723",
   "metadata": {},
   "source": [
    "## Amazon Data list"
   ]
  },
  {
   "cell_type": "code",
   "execution_count": 181,
   "id": "de0f553a",
   "metadata": {},
   "outputs": [],
   "source": [
    "from bs4 import BeautifulSoup\n",
    "import requests\n",
    "import pandas as pd\n",
    "from selenium import webdriver"
   ]
  },
  {
   "cell_type": "code",
   "execution_count": 182,
   "id": "8ab21b7b",
   "metadata": {},
   "outputs": [],
   "source": [
    "url = 'https://www.amazon.in/s?rh=n%3A5257793031&fs=true&ref=lp_5257793031_sar'\n",
    "\n",
    "#https://www.amazon.in/s?rh=n%3A5257793031\n",
    "#https://www.amazon.in/s?rh=n%3A5257793031&fs=true\n",
    "#https://www.amazon.in/s?rh=n%3A5257793031&fs=true&ref=lp_5257793031_sar"
   ]
  },
  {
   "cell_type": "code",
   "execution_count": 183,
   "id": "83c30443",
   "metadata": {},
   "outputs": [],
   "source": [
    "page = requests.get(url, headers = { 'User-Agent' : 'Mozilla/5.0 (X11; Ubuntu; Linux x86_64; rv:64.0) Gecko/20100101 Firefox/64.0'})"
   ]
  },
  {
   "cell_type": "code",
   "execution_count": 184,
   "id": "ea993d73",
   "metadata": {},
   "outputs": [],
   "source": [
    "soup = BeautifulSoup(page.content, 'lxml')"
   ]
  },
  {
   "cell_type": "code",
   "execution_count": 263,
   "id": "1828e7e2",
   "metadata": {},
   "outputs": [],
   "source": [
    "#soup"
   ]
  },
  {
   "cell_type": "code",
   "execution_count": 264,
   "id": "e0ad4d9e",
   "metadata": {},
   "outputs": [
    {
     "data": {
      "text/plain": [
       "24"
      ]
     },
     "execution_count": 264,
     "metadata": {},
     "output_type": "execute_result"
    }
   ],
   "source": [
    "all_data = soup.find_all(class_=\"a-section a-spacing-base\")\n",
    "len(all_data)"
   ]
  },
  {
   "cell_type": "code",
   "execution_count": 265,
   "id": "bbbe6940",
   "metadata": {},
   "outputs": [
    {
     "data": {
      "text/plain": [
       "(24, 24, 24, 24)"
      ]
     },
     "execution_count": 265,
     "metadata": {},
     "output_type": "execute_result"
    }
   ],
   "source": [
    "names,ratings,reviews,prices=[],[],[],[]\n",
    "\n",
    "for first in all_data:\n",
    "    names.append(first.find(class_=\"a-size-base-plus a-color-base a-text-normal\").get_text())\n",
    "    try:\n",
    "        ratings.append(first.find('i').get_text())\n",
    "    except:\n",
    "        ratings.append(first.find('i'))\n",
    "        \n",
    "    try:\n",
    "        reviews.append(first.find('span',{\"class\":\"a-size-base s-light-weight-text\"}).get_text())\n",
    "    except:\n",
    "        reviews.append(first.find('span',{\"class\":\"a-size-base s-light-weight-text\"}))\n",
    "        \n",
    "    try:\n",
    "        prices.append(first.find(class_=\"a-price-whole\").get_text())\n",
    "    except:\n",
    "        prices.append(first.find(class_=\"a-price-whole\"))\n",
    "    \n",
    "len(names),len(ratings),len(reviews),len(prices)"
   ]
  },
  {
   "cell_type": "code",
   "execution_count": 266,
   "id": "ec9ea684",
   "metadata": {},
   "outputs": [],
   "source": [
    "d = {'Names':names,'ratings':ratings,'Reviews':reviews,'Prices':prices  }\n",
    "df=pd.DataFrame(d)"
   ]
  },
  {
   "cell_type": "code",
   "execution_count": 267,
   "id": "0c7b0561",
   "metadata": {},
   "outputs": [],
   "source": [
    "df = df.replace([''],)\n",
    "#df = df.replace(,'')\n",
    "df = df.fillna(value = 'None')"
   ]
  },
  {
   "cell_type": "code",
   "execution_count": 268,
   "id": "8042c005",
   "metadata": {},
   "outputs": [
    {
     "data": {
      "text/html": [
       "<div>\n",
       "<style scoped>\n",
       "    .dataframe tbody tr th:only-of-type {\n",
       "        vertical-align: middle;\n",
       "    }\n",
       "\n",
       "    .dataframe tbody tr th {\n",
       "        vertical-align: top;\n",
       "    }\n",
       "\n",
       "    .dataframe thead th {\n",
       "        text-align: right;\n",
       "    }\n",
       "</style>\n",
       "<table border=\"1\" class=\"dataframe\">\n",
       "  <thead>\n",
       "    <tr style=\"text-align: right;\">\n",
       "      <th></th>\n",
       "      <th>Names</th>\n",
       "      <th>ratings</th>\n",
       "      <th>Reviews</th>\n",
       "      <th>Prices</th>\n",
       "    </tr>\n",
       "  </thead>\n",
       "  <tbody>\n",
       "    <tr>\n",
       "      <th>0</th>\n",
       "      <td>Auto Hub Turbo Sound Car Silencer Whistle for ...</td>\n",
       "      <td>2.9 out of 5 stars</td>\n",
       "      <td>114</td>\n",
       "      <td>349</td>\n",
       "    </tr>\n",
       "    <tr>\n",
       "      <th>1</th>\n",
       "      <td>R.J.VON - Bike Front Wheel Lock, for - Hero Mo...</td>\n",
       "      <td>None</td>\n",
       "      <td>None</td>\n",
       "      <td>369</td>\n",
       "    </tr>\n",
       "    <tr>\n",
       "      <th>2</th>\n",
       "      <td>R.J.VON - Bike Front Wheel Lock for - All Bike...</td>\n",
       "      <td>3.7 out of 5 stars</td>\n",
       "      <td>8</td>\n",
       "      <td>375</td>\n",
       "    </tr>\n",
       "    <tr>\n",
       "      <th>3</th>\n",
       "      <td>Auto Hub Turbo Sound Car Silencer Whistle for ...</td>\n",
       "      <td>3.2 out of 5 stars</td>\n",
       "      <td>19</td>\n",
       "      <td>349</td>\n",
       "    </tr>\n",
       "    <tr>\n",
       "      <th>4</th>\n",
       "      <td>Oshotto Stainless Steel SS-009 Car Exhaust Muf...</td>\n",
       "      <td>3.2 out of 5 stars</td>\n",
       "      <td>None</td>\n",
       "      <td>1,398</td>\n",
       "    </tr>\n",
       "    <tr>\n",
       "      <th>5</th>\n",
       "      <td>Vocado® Turbo Sound Car Silencer Whistle for F...</td>\n",
       "      <td>5.0 out of 5 stars</td>\n",
       "      <td>1</td>\n",
       "      <td>438</td>\n",
       "    </tr>\n",
       "    <tr>\n",
       "      <th>6</th>\n",
       "      <td>Auto Hub Turbo Sound Car Silencer Whistle for ...</td>\n",
       "      <td>2.9 out of 5 stars</td>\n",
       "      <td>7</td>\n",
       "      <td>349</td>\n",
       "    </tr>\n",
       "    <tr>\n",
       "      <th>7</th>\n",
       "      <td>Vocado® Turbo Sound Car Silencer Whistle for F...</td>\n",
       "      <td>None</td>\n",
       "      <td>None</td>\n",
       "      <td>349</td>\n",
       "    </tr>\n",
       "    <tr>\n",
       "      <th>8</th>\n",
       "      <td>SupremeChoice Bike Bullet Silencer Exhaust A1 ...</td>\n",
       "      <td>5.0 out of 5 stars</td>\n",
       "      <td>2</td>\n",
       "      <td>2,178</td>\n",
       "    </tr>\n",
       "    <tr>\n",
       "      <th>9</th>\n",
       "      <td>Auto Hub Turbo Sound Car Silencer Whistle for ...</td>\n",
       "      <td>3.0 out of 5 stars</td>\n",
       "      <td>4</td>\n",
       "      <td>349</td>\n",
       "    </tr>\n",
       "    <tr>\n",
       "      <th>10</th>\n",
       "      <td>WallDesign Car Decals Shining Sri Ganesha Gold...</td>\n",
       "      <td>3.8 out of 5 stars</td>\n",
       "      <td>3</td>\n",
       "      <td>229</td>\n",
       "    </tr>\n",
       "    <tr>\n",
       "      <th>11</th>\n",
       "      <td>AllExtreme EXRSAB1 Rear Shocker Suspension Spr...</td>\n",
       "      <td>2.8 out of 5 stars</td>\n",
       "      <td>7</td>\n",
       "      <td>3,529</td>\n",
       "    </tr>\n",
       "    <tr>\n",
       "      <th>12</th>\n",
       "      <td>Auto Hub Turbo Sound Car Silencer Whistle for ...</td>\n",
       "      <td>3.0 out of 5 stars</td>\n",
       "      <td>10</td>\n",
       "      <td>349</td>\n",
       "    </tr>\n",
       "    <tr>\n",
       "      <th>13</th>\n",
       "      <td>Auto Hub Turbo Sound Car Silencer Whistle for ...</td>\n",
       "      <td>3.6 out of 5 stars</td>\n",
       "      <td>8</td>\n",
       "      <td>349</td>\n",
       "    </tr>\n",
       "    <tr>\n",
       "      <th>14</th>\n",
       "      <td>AutoPop Stainless Steel Chrome Dicky Garnish f...</td>\n",
       "      <td>5.0 out of 5 stars</td>\n",
       "      <td>2</td>\n",
       "      <td>525</td>\n",
       "    </tr>\n",
       "    <tr>\n",
       "      <th>15</th>\n",
       "      <td>GOLSM Bike Handle Bar HB11 Thick Pipe Handleba...</td>\n",
       "      <td>5.0 out of 5 stars</td>\n",
       "      <td>None</td>\n",
       "      <td>1,315</td>\n",
       "    </tr>\n",
       "    <tr>\n",
       "      <th>16</th>\n",
       "      <td>Auto Hub Turbo Sound Car Silencer Whistle for ...</td>\n",
       "      <td>2.2 out of 5 stars</td>\n",
       "      <td>11</td>\n",
       "      <td>349</td>\n",
       "    </tr>\n",
       "    <tr>\n",
       "      <th>17</th>\n",
       "      <td>Vocado® Turbo Sound Car Silencer Whistle-Hyund...</td>\n",
       "      <td>2.2 out of 5 stars</td>\n",
       "      <td>None</td>\n",
       "      <td>531</td>\n",
       "    </tr>\n",
       "    <tr>\n",
       "      <th>18</th>\n",
       "      <td>Olmeo 2560 Car ExhaustTurbine Style Silencer M...</td>\n",
       "      <td>3.2 out of 5 stars</td>\n",
       "      <td>12</td>\n",
       "      <td>620</td>\n",
       "    </tr>\n",
       "    <tr>\n",
       "      <th>19</th>\n",
       "      <td>Auto Hub Turbo Sound Car Silencer Whistle for ...</td>\n",
       "      <td>2.9 out of 5 stars</td>\n",
       "      <td>7</td>\n",
       "      <td>349</td>\n",
       "    </tr>\n",
       "    <tr>\n",
       "      <th>20</th>\n",
       "      <td>Guance Car Exhaust Tube in Tube Silencer Muffl...</td>\n",
       "      <td>3.3 out of 5 stars</td>\n",
       "      <td>8</td>\n",
       "      <td>431</td>\n",
       "    </tr>\n",
       "    <tr>\n",
       "      <th>21</th>\n",
       "      <td>GOLSM Car Drill Free Roof Rails Black For Mahi...</td>\n",
       "      <td>2.0 out of 5 stars</td>\n",
       "      <td>2</td>\n",
       "      <td>1,855</td>\n",
       "    </tr>\n",
       "    <tr>\n",
       "      <th>22</th>\n",
       "      <td>NEW RIDER Bike 149M Carrier Backrest Harley St...</td>\n",
       "      <td>1.9 out of 5 stars</td>\n",
       "      <td>3</td>\n",
       "      <td>None</td>\n",
       "    </tr>\n",
       "    <tr>\n",
       "      <th>23</th>\n",
       "      <td>Vocado® Turbo Sound Car Silencer Whistle-Marut...</td>\n",
       "      <td>None</td>\n",
       "      <td>None</td>\n",
       "      <td>349</td>\n",
       "    </tr>\n",
       "  </tbody>\n",
       "</table>\n",
       "</div>"
      ],
      "text/plain": [
       "                                                Names             ratings  \\\n",
       "0   Auto Hub Turbo Sound Car Silencer Whistle for ...  2.9 out of 5 stars   \n",
       "1   R.J.VON - Bike Front Wheel Lock, for - Hero Mo...                None   \n",
       "2   R.J.VON - Bike Front Wheel Lock for - All Bike...  3.7 out of 5 stars   \n",
       "3   Auto Hub Turbo Sound Car Silencer Whistle for ...  3.2 out of 5 stars   \n",
       "4   Oshotto Stainless Steel SS-009 Car Exhaust Muf...  3.2 out of 5 stars   \n",
       "5   Vocado® Turbo Sound Car Silencer Whistle for F...  5.0 out of 5 stars   \n",
       "6   Auto Hub Turbo Sound Car Silencer Whistle for ...  2.9 out of 5 stars   \n",
       "7   Vocado® Turbo Sound Car Silencer Whistle for F...                None   \n",
       "8   SupremeChoice Bike Bullet Silencer Exhaust A1 ...  5.0 out of 5 stars   \n",
       "9   Auto Hub Turbo Sound Car Silencer Whistle for ...  3.0 out of 5 stars   \n",
       "10  WallDesign Car Decals Shining Sri Ganesha Gold...  3.8 out of 5 stars   \n",
       "11  AllExtreme EXRSAB1 Rear Shocker Suspension Spr...  2.8 out of 5 stars   \n",
       "12  Auto Hub Turbo Sound Car Silencer Whistle for ...  3.0 out of 5 stars   \n",
       "13  Auto Hub Turbo Sound Car Silencer Whistle for ...  3.6 out of 5 stars   \n",
       "14  AutoPop Stainless Steel Chrome Dicky Garnish f...  5.0 out of 5 stars   \n",
       "15  GOLSM Bike Handle Bar HB11 Thick Pipe Handleba...  5.0 out of 5 stars   \n",
       "16  Auto Hub Turbo Sound Car Silencer Whistle for ...  2.2 out of 5 stars   \n",
       "17  Vocado® Turbo Sound Car Silencer Whistle-Hyund...  2.2 out of 5 stars   \n",
       "18  Olmeo 2560 Car ExhaustTurbine Style Silencer M...  3.2 out of 5 stars   \n",
       "19  Auto Hub Turbo Sound Car Silencer Whistle for ...  2.9 out of 5 stars   \n",
       "20  Guance Car Exhaust Tube in Tube Silencer Muffl...  3.3 out of 5 stars   \n",
       "21  GOLSM Car Drill Free Roof Rails Black For Mahi...  2.0 out of 5 stars   \n",
       "22  NEW RIDER Bike 149M Carrier Backrest Harley St...  1.9 out of 5 stars   \n",
       "23  Vocado® Turbo Sound Car Silencer Whistle-Marut...                None   \n",
       "\n",
       "   Reviews Prices  \n",
       "0      114    349  \n",
       "1     None    369  \n",
       "2        8    375  \n",
       "3       19    349  \n",
       "4     None  1,398  \n",
       "5        1    438  \n",
       "6        7    349  \n",
       "7     None    349  \n",
       "8        2  2,178  \n",
       "9        4    349  \n",
       "10       3    229  \n",
       "11       7  3,529  \n",
       "12      10    349  \n",
       "13       8    349  \n",
       "14       2    525  \n",
       "15    None  1,315  \n",
       "16      11    349  \n",
       "17    None    531  \n",
       "18      12    620  \n",
       "19       7    349  \n",
       "20       8    431  \n",
       "21       2  1,855  \n",
       "22       3   None  \n",
       "23    None    349  "
      ]
     },
     "execution_count": 268,
     "metadata": {},
     "output_type": "execute_result"
    }
   ],
   "source": [
    "df"
   ]
  },
  {
   "cell_type": "code",
   "execution_count": 269,
   "id": "f37d2c08",
   "metadata": {},
   "outputs": [
    {
     "name": "stdout",
     "output_type": "stream",
     "text": [
      "Empty DataFrame\n",
      "Columns: [Names, ratings, Reviews, Prices]\n",
      "Index: [] \n",
      "\n",
      " 0\n"
     ]
    }
   ],
   "source": [
    "nan_df = df[df.isna().any(axis=1)]\n",
    "\n",
    "print(nan_df.head(), '\\n\\n',len(nan_df))"
   ]
  },
  {
   "cell_type": "code",
   "execution_count": null,
   "id": "ab79bbe1",
   "metadata": {},
   "outputs": [],
   "source": []
  }
 ],
 "metadata": {
  "kernelspec": {
   "display_name": "Python 3 (ipykernel)",
   "language": "python",
   "name": "python3"
  },
  "language_info": {
   "codemirror_mode": {
    "name": "ipython",
    "version": 3
   },
   "file_extension": ".py",
   "mimetype": "text/x-python",
   "name": "python",
   "nbconvert_exporter": "python",
   "pygments_lexer": "ipython3",
   "version": "3.10.1"
  }
 },
 "nbformat": 4,
 "nbformat_minor": 5
}
